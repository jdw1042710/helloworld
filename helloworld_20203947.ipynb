{
  "nbformat": 4,
  "nbformat_minor": 0,
  "metadata": {
    "colab": {
      "name": "helloworld_20203947.ipynb",
      "provenance": [],
      "authorship_tag": "ABX9TyNBZ86QJSB/VQRPuu/fZ3Iv",
      "include_colab_link": true
    },
    "kernelspec": {
      "name": "python3",
      "display_name": "Python 3"
    }
  },
  "cells": [
    {
      "cell_type": "markdown",
      "metadata": {
        "id": "view-in-github",
        "colab_type": "text"
      },
      "source": [
        "<a href=\"https://colab.research.google.com/github/jdw1042710/helloworld/blob/main/helloworld_20203947.ipynb\" target=\"_parent\"><img src=\"https://colab.research.google.com/assets/colab-badge.svg\" alt=\"Open In Colab\"/></a>"
      ]
    },
    {
      "cell_type": "code",
      "metadata": {
        "id": "K9TJGG_oSkxX",
        "outputId": "17b82c2c-9847-41ce-fc03-d8fd40c59c48",
        "colab": {
          "base_uri": "https://localhost:8080/",
          "height": 35
        }
      },
      "source": [
        "print(\"helloworld\", 20203947)"
      ],
      "execution_count": 1,
      "outputs": [
        {
          "output_type": "stream",
          "text": [
            "helloworld 20203947\n"
          ],
          "name": "stdout"
        }
      ]
    }
  ]
}